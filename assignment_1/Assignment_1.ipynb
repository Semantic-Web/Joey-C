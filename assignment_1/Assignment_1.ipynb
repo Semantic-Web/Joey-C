{
 "cells": [
  {
   "cell_type": "code",
   "execution_count": 8,
   "metadata": {
    "collapsed": false,
    "scrolled": true
   },
   "outputs": [
    {
     "name": "stdout",
     "output_type": "stream",
     "text": [
      "orgName index: 2\n",
      "views index: 3\n",
      "\n",
      "done: total organizations 172 totalRecords: 210537 \n",
      "\n",
      "Organization Name                                                                Total Views    \n",
      "-------------------------------------------------------------------------------- ---------------\n",
      "US Census Bureau, Department of Commerce                                         178510         \n",
      "National Oceanic and Atmospheric Administration, Department of Commerce          155713         \n",
      "U.S. Geological Survey, Department of the Interior                               109848         \n",
      "U.S. Department of Health & Human Services                                       93297          \n",
      "Department of Agriculture                                                        76948          \n",
      "Department of Defense                                                            45886          \n",
      "Earth Data Analysis Center, University of New Mexico                             41974          \n",
      "Department of Education                                                          39064          \n",
      "Department of Transportation                                                     37620          \n",
      "General Services Administration                                                  31281          \n"
     ]
    }
   ],
   "source": [
    "%matplotlib inline\n",
    "\n",
    "import sys\n",
    "import csv\n",
    "import heapq\n",
    "import numpy as np\n",
    "import matplotlib.pyplot as plt\n",
    "\n",
    "orgNames = [];\n",
    "totalValues = [];\n",
    "\n",
    "try: # Try to open the file.\n",
    "    dataFile = open(\"datagovdatasetsviewmetrics.csv\", \"rb\");\n",
    "    \n",
    "except IOError as e:\n",
    "    print \"data file could not be opened.\"\n",
    "    sys.exit(1)\n",
    "\n",
    "# Initialize the reader.\n",
    "reader = csv.reader(dataFile);\n",
    "\n",
    "# Read in the property names and their indices.\n",
    "propertyIndices = {};\n",
    "propertyNames = reader.next();\n",
    "for i in range(len(propertyNames)):\n",
    "    propertyIndices[ propertyNames[i] ] = i;\n",
    "\n",
    "ORG_NAME_KEY = \"Organization Name\";\n",
    "VIEWS_KEY    = \"Views per Month\";\n",
    "    \n",
    "# Get the indices that we can read the properties from.\n",
    "ORG_NAME_INDEX = -1 if ORG_NAME_KEY not in propertyIndices else propertyIndices[ORG_NAME_KEY];\n",
    "VIEWS_INDEX    = -1 if VIEWS_KEY not in propertyIndices else propertyIndices[VIEWS_KEY];\n",
    "\n",
    "if ORG_NAME_INDEX >= 0 and VIEWS_INDEX >= 0:\n",
    "    print \"orgName index:\",ORG_NAME_INDEX\n",
    "    print \"views index:\",VIEWS_INDEX\n",
    "    print \"\"\n",
    "else:\n",
    "    print \"Couldn't parse property indices.\"\n",
    "    print str(propertyNames);\n",
    "    print \"orgName index:\",ORG_NAME_INDEX\n",
    "    print \"views index:\",VIEWS_INDEX\n",
    "    sys.exit(2)\n",
    "    \n",
    "\n",
    "# 1.  Reduce the total list of rows into a list of organizations each with the summation of the associated views.\n",
    "indexMap = {};\n",
    "totalViewsList = [];\n",
    "count = 0;\n",
    "\n",
    "for row in reader: # O(n) which yields a smaller list of length m, such that m <= n.\n",
    "    count+=1;\n",
    "\n",
    "    # Making the first values of the tuple an intergral type treats them as the heap priority.\n",
    "    # In any case, we're remembering the number views as a negative so that the python heapq can be \n",
    "    # used as a max heap.  There's no natively better supported way to do this at the moment without\n",
    "    # using another library.\n",
    "    orgName = row[ORG_NAME_INDEX];\n",
    "    views = -int(row[VIEWS_INDEX]);\n",
    "\n",
    "    if orgName in indexMap:\n",
    "        index = indexMap[orgName];\n",
    "        #print \"found index\",index,\"for org name\",orgName\n",
    "        obj = (totalViewsList[index][0] + views, orgName);\n",
    "        totalViewsList[index] = obj;\n",
    "    else:\n",
    "        # Create the new tuple, remember where we're putting it, and put it there.\n",
    "        obj = (views, orgName);\n",
    "        index = len(totalViewsList);\n",
    "        indexMap[orgName] = index;\n",
    "        totalViewsList.append(obj);\n",
    "        # Test it.\n",
    "        #print \"added orgName:\", orgName, \"to indexMap at index:\", index\n",
    "        #if not index == indexMap[orgName]:\n",
    "        #    print \"problem!  Org name isn't mapped to intended index!  Results won't be correct.\"\n",
    "\n",
    "print \"done: total organizations\", len(totalViewsList), \"totalRecords:\", count, \"\\n\";\n",
    "\n",
    "# Heapify it all at once.  Quicker than pushing each, which would be O(m lg m).\n",
    "heapq.heapify(totalViewsList); # O(m)\n",
    "\n",
    "prevTotal = -1;\n",
    "uniqueTotalsCount = 0;\n",
    "\n",
    "# Pop views until we have enough results (10 unique view totals).  O(m lg m)\n",
    "# Since we're effectively using a max heap, the results are in descending order.\n",
    "for index in range( len(totalViewsList) ):\n",
    "    # pull the object.\n",
    "    obj = heapq.heappop(totalViewsList);\n",
    "\n",
    "    # flip the total, as it was negative to make the heap behave as a max heap.\n",
    "    total = obj[0] * -1\n",
    "\n",
    "    # create a new object as we can't overwrite a tuple and push it into the presentation results.\n",
    "    orgNames.append(obj[1]);\n",
    "    totalValues.append(total);\n",
    "\n",
    "    if total != prevTotal:\n",
    "        uniqueTotalsCount += 1;\n",
    "\n",
    "    prevTotal = total;\n",
    "    if uniqueTotalsCount == 10:\n",
    "        break;    \n",
    "        \n",
    "# Pretty Print.\n",
    "# https://docs.python.org/2/library/string.html#formatstrings\n",
    "rowFormatStr = \"{0:<80s} {1:<15d}\";\n",
    "headerFormatStr = \"{0:<80s} {1:<15s}\";\n",
    "print headerFormatStr.format(\"Organization Name\", \"Total Views\");\n",
    "print \"{0:-<80s} {1:-^15s}\".format(\"\", \"\");\n",
    "for index in range( len(orgNames) ):\n",
    "    print rowFormatStr.format(orgNames[index], totalValues[index]);\n",
    "        "
   ]
  },
  {
   "cell_type": "code",
   "execution_count": 7,
   "metadata": {
    "collapsed": false
   },
   "outputs": [
    {
     "data": {
      "image/png": "[encoded data removed]",
      "text/plain": [
       "<matplotlib.figure.Figure at 0x1042b3750>"
      ]
     },
     "metadata": {},
     "output_type": "display_data"
    }
   ],
   "source": [
    "# Build the bar chart.\n",
    "# Note that the chart could be configured a little better to look nicer with larger data sets.\n",
    "index = np.arange(len(totalValues))[::-1]\n",
    "\n",
    "plt.figure();\n",
    "plt.barh(width=totalValues, bottom=index)\n",
    "\n",
    "plt.yticks(index, tuple(orgNames))\n",
    "plt.xlabel('Total Views')\n",
    "plt.ylabel('Organization')\n",
    "\n",
    "plt.show();    \n",
    "\n"
   ]
  },
  {
   "cell_type": "code",
   "execution_count": null,
   "metadata": {
    "collapsed": true
   },
   "outputs": [],
   "source": []
  },
  {
   "cell_type": "code",
   "execution_count": null,
   "metadata": {
    "collapsed": true
   },
   "outputs": [],
   "source": []
  },
  {
   "cell_type": "code",
   "execution_count": null,
   "metadata": {
    "collapsed": true
   },
   "outputs": [],
   "source": []
  }
 ],
 "metadata": {
  "kernelspec": {
   "display_name": "Python 2",
   "language": "python",
   "name": "python2"
  },
  "language_info": {
   "codemirror_mode": {
    "name": "ipython",
    "version": 2
   },
   "file_extension": ".py",
   "mimetype": "text/x-python",
   "name": "python",
   "nbconvert_exporter": "python",
   "pygments_lexer": "ipython2",
   "version": "2.7.9"
  }
 },
 "nbformat": 4,
 "nbformat_minor": 0
}
